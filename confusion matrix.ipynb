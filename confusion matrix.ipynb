{
 "cells": [
  {
   "cell_type": "code",
   "execution_count": 1,
   "id": "715c7fe8",
   "metadata": {},
   "outputs": [],
   "source": [
    "import numpy as np\n",
    "from sklearn.metrics import confusion_matrix, accuracy_score, precision_score, recall_score, f1_score"
   ]
  },
  {
   "cell_type": "code",
   "execution_count": 2,
   "id": "de4a95db",
   "metadata": {},
   "outputs": [],
   "source": [
    "actual_sample = np.random.binomial(1, 0.8, 2000)"
   ]
  },
  {
   "cell_type": "code",
   "execution_count": 3,
   "id": "f133e348",
   "metadata": {},
   "outputs": [
    {
     "name": "stdout",
     "output_type": "stream",
     "text": [
      "[1 0 1 ... 1 1 1]\n"
     ]
    }
   ],
   "source": [
    "print(actual_sample)"
   ]
  },
  {
   "cell_type": "code",
   "execution_count": 4,
   "id": "535c3dc8",
   "metadata": {},
   "outputs": [],
   "source": [
    "predicted_sample = np.random.binomial(1, 0.9, 2000)"
   ]
  },
  {
   "cell_type": "code",
   "execution_count": 5,
   "id": "34fb4fa0",
   "metadata": {},
   "outputs": [
    {
     "name": "stdout",
     "output_type": "stream",
     "text": [
      "[1 1 1 ... 1 1 1]\n"
     ]
    }
   ],
   "source": [
    "print(predicted_sample)"
   ]
  },
  {
   "cell_type": "code",
   "execution_count": 7,
   "id": "0a896de9",
   "metadata": {},
   "outputs": [],
   "source": [
    "cm = confusion_matrix(actual_sample, predicted_sample)"
   ]
  },
  {
   "cell_type": "code",
   "execution_count": 8,
   "id": "b43c05ef",
   "metadata": {},
   "outputs": [
    {
     "name": "stdout",
     "output_type": "stream",
     "text": [
      "Confusion Matrix:\n",
      "True/Predicted \t 0 \t 1\n",
      "0 \t\t 41 \t 348\n",
      "1 \t\t 160 \t 1451\n"
     ]
    }
   ],
   "source": [
    "print(\"Confusion Matrix:\")\n",
    "print(\"True/Predicted \\t 0 \\t 1\")\n",
    "print(\"0 \\t\\t\", cm[0, 0], \"\\t\", cm[0, 1])\n",
    "print(\"1 \\t\\t\", cm[1, 0], \"\\t\", cm[1, 1])"
   ]
  },
  {
   "cell_type": "code",
   "execution_count": 9,
   "id": "d3b293bc",
   "metadata": {},
   "outputs": [],
   "source": [
    "accuracy = accuracy_score(actual_sample, predicted_sample)\n",
    "precision = precision_score(actual_sample, predicted_sample)\n",
    "recall = recall_score(actual_sample, predicted_sample)\n",
    "f1 = f1_score(actual_sample, predicted_sample)"
   ]
  },
  {
   "cell_type": "code",
   "execution_count": 10,
   "id": "c08fc2cb",
   "metadata": {},
   "outputs": [
    {
     "name": "stdout",
     "output_type": "stream",
     "text": [
      "\n",
      "Metrics:\n",
      "Accuracy: 0.746\n",
      "Precision: 0.8065591995553085\n",
      "Recall: 0.9006828057107387\n",
      "F1 Score: 0.851026392961877\n"
     ]
    }
   ],
   "source": [
    "print(\"\\nMetrics:\")\n",
    "print(\"Accuracy:\", accuracy)\n",
    "print(\"Precision:\", precision)\n",
    "print(\"Recall:\", recall)\n",
    "print(\"F1 Score:\", f1)"
   ]
  },
  {
   "cell_type": "code",
   "execution_count": 1,
   "id": "ebab5ec4",
   "metadata": {},
   "outputs": [
    {
     "name": "stdout",
     "output_type": "stream",
     "text": [
      "Confusion Matrix:\n",
      "True/Predicted \t 0 \t 1\n"
     ]
    },
    {
     "ename": "NameError",
     "evalue": "name 'cm' is not defined",
     "output_type": "error",
     "traceback": [
      "\u001b[1;31m---------------------------------------------------------------------------\u001b[0m",
      "\u001b[1;31mNameError\u001b[0m                                 Traceback (most recent call last)",
      "Cell \u001b[1;32mIn[1], line 3\u001b[0m\n\u001b[0;32m      1\u001b[0m \u001b[38;5;28mprint\u001b[39m(\u001b[38;5;124m\"\u001b[39m\u001b[38;5;124mConfusion Matrix:\u001b[39m\u001b[38;5;124m\"\u001b[39m)\n\u001b[0;32m      2\u001b[0m \u001b[38;5;28mprint\u001b[39m(\u001b[38;5;124m\"\u001b[39m\u001b[38;5;124mTrue/Predicted \u001b[39m\u001b[38;5;130;01m\\t\u001b[39;00m\u001b[38;5;124m 0 \u001b[39m\u001b[38;5;130;01m\\t\u001b[39;00m\u001b[38;5;124m 1\u001b[39m\u001b[38;5;124m\"\u001b[39m)\n\u001b[1;32m----> 3\u001b[0m \u001b[38;5;28mprint\u001b[39m( \u001b[43mcm\u001b[49m[\u001b[38;5;241m0\u001b[39m, \u001b[38;5;241m0\u001b[39m], \u001b[38;5;124m\"\u001b[39m\u001b[38;5;130;01m\\t\u001b[39;00m\u001b[38;5;124m\"\u001b[39m, cm[\u001b[38;5;241m0\u001b[39m, \u001b[38;5;241m1\u001b[39m])\n\u001b[0;32m      4\u001b[0m \u001b[38;5;28mprint\u001b[39m( cm[\u001b[38;5;241m1\u001b[39m, \u001b[38;5;241m0\u001b[39m], \u001b[38;5;124m\"\u001b[39m\u001b[38;5;130;01m\\t\u001b[39;00m\u001b[38;5;124m\"\u001b[39m, cm[\u001b[38;5;241m1\u001b[39m, \u001b[38;5;241m1\u001b[39m])\n",
      "\u001b[1;31mNameError\u001b[0m: name 'cm' is not defined"
     ]
    }
   ],
   "source": [
    "print(\"Confusion Matrix:\")\n",
    "print(\"True/Predicted \\t 0 \\t 1\")\n",
    "print( cm[0, 0], \"\\t\", cm[0, 1])\n",
    "print( cm[1, 0], \"\\t\", cm[1, 1])"
   ]
  }
 ],
 "metadata": {
  "kernelspec": {
   "display_name": "Python 3 (ipykernel)",
   "language": "python",
   "name": "python3"
  },
  "language_info": {
   "codemirror_mode": {
    "name": "ipython",
    "version": 3
   },
   "file_extension": ".py",
   "mimetype": "text/x-python",
   "name": "python",
   "nbconvert_exporter": "python",
   "pygments_lexer": "ipython3",
   "version": "3.11.8"
  }
 },
 "nbformat": 4,
 "nbformat_minor": 5
}
